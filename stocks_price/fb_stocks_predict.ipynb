{
  "nbformat": 4,
  "nbformat_minor": 0,
  "metadata": {
    "colab": {
      "name": "fb_stocks.ipynb",
      "provenance": []
    },
    "kernelspec": {
      "name": "python3",
      "display_name": "Python 3"
    }
  },
  "cells": [
    {
      "cell_type": "code",
      "metadata": {
        "id": "_5bQnyWRuzEj",
        "colab_type": "code",
        "colab": {
          "base_uri": "https://localhost:8080/",
          "height": 34
        },
        "outputId": "b1dd96a1-f0a0-4a02-a941-760af43104ea"
      },
      "source": [
        "from keras.models import Sequential\n",
        "from keras.layers import Dense, Dropout, LSTM\n",
        "from sklearn.preprocessing import MinMaxScaler\n",
        "from keras.callbacks import EarlyStopping, ReduceLROnPlateau,ModelCheckpoint\n",
        "import numpy as np\n",
        "import pandas as pd\n",
        "import matplotlib.pyplot as plt"
      ],
      "execution_count": 1,
      "outputs": [
        {
          "output_type": "stream",
          "text": [
            "Using TensorFlow backend.\n"
          ],
          "name": "stderr"
        }
      ]
    },
    {
      "cell_type": "code",
      "metadata": {
        "id": "PeweHawtu3GC",
        "colab_type": "code",
        "colab": {}
      },
      "source": [
        "base= pd.read_csv(\"fb_stocks.csv\")"
      ],
      "execution_count": 0,
      "outputs": []
    },
    {
      "cell_type": "code",
      "metadata": {
        "id": "ohuAyG8WvlFX",
        "colab_type": "code",
        "colab": {
          "base_uri": "https://localhost:8080/",
          "height": 156
        },
        "outputId": "d7048bcd-8c08-41c5-c9e0-c60f41fa5838"
      },
      "source": [
        "base.isnull().sum()"
      ],
      "execution_count": 39,
      "outputs": [
        {
          "output_type": "execute_result",
          "data": {
            "text/plain": [
              "Date         0\n",
              "Open         0\n",
              "High         0\n",
              "Low          0\n",
              "Close        0\n",
              "Adj Close    0\n",
              "Volume       0\n",
              "dtype: int64"
            ]
          },
          "metadata": {
            "tags": []
          },
          "execution_count": 39
        }
      ]
    },
    {
      "cell_type": "code",
      "metadata": {
        "id": "WWqdQRKCvo6c",
        "colab_type": "code",
        "colab": {
          "base_uri": "https://localhost:8080/",
          "height": 202
        },
        "outputId": "6051aeb4-ef40-466a-aff7-1a757825081c"
      },
      "source": [
        "base.head()"
      ],
      "execution_count": 40,
      "outputs": [
        {
          "output_type": "execute_result",
          "data": {
            "text/html": [
              "<div>\n",
              "<style scoped>\n",
              "    .dataframe tbody tr th:only-of-type {\n",
              "        vertical-align: middle;\n",
              "    }\n",
              "\n",
              "    .dataframe tbody tr th {\n",
              "        vertical-align: top;\n",
              "    }\n",
              "\n",
              "    .dataframe thead th {\n",
              "        text-align: right;\n",
              "    }\n",
              "</style>\n",
              "<table border=\"1\" class=\"dataframe\">\n",
              "  <thead>\n",
              "    <tr style=\"text-align: right;\">\n",
              "      <th></th>\n",
              "      <th>Date</th>\n",
              "      <th>Open</th>\n",
              "      <th>High</th>\n",
              "      <th>Low</th>\n",
              "      <th>Close</th>\n",
              "      <th>Adj Close</th>\n",
              "      <th>Volume</th>\n",
              "    </tr>\n",
              "  </thead>\n",
              "  <tbody>\n",
              "    <tr>\n",
              "      <th>0</th>\n",
              "      <td>2013-01-02</td>\n",
              "      <td>27.440001</td>\n",
              "      <td>28.180000</td>\n",
              "      <td>27.420000</td>\n",
              "      <td>28.000000</td>\n",
              "      <td>28.000000</td>\n",
              "      <td>69846400</td>\n",
              "    </tr>\n",
              "    <tr>\n",
              "      <th>1</th>\n",
              "      <td>2013-01-03</td>\n",
              "      <td>27.879999</td>\n",
              "      <td>28.469999</td>\n",
              "      <td>27.590000</td>\n",
              "      <td>27.770000</td>\n",
              "      <td>27.770000</td>\n",
              "      <td>63140600</td>\n",
              "    </tr>\n",
              "    <tr>\n",
              "      <th>2</th>\n",
              "      <td>2013-01-04</td>\n",
              "      <td>28.010000</td>\n",
              "      <td>28.930000</td>\n",
              "      <td>27.830000</td>\n",
              "      <td>28.760000</td>\n",
              "      <td>28.760000</td>\n",
              "      <td>72715400</td>\n",
              "    </tr>\n",
              "    <tr>\n",
              "      <th>3</th>\n",
              "      <td>2013-01-07</td>\n",
              "      <td>28.690001</td>\n",
              "      <td>29.790001</td>\n",
              "      <td>28.650000</td>\n",
              "      <td>29.420000</td>\n",
              "      <td>29.420000</td>\n",
              "      <td>83781800</td>\n",
              "    </tr>\n",
              "    <tr>\n",
              "      <th>4</th>\n",
              "      <td>2013-01-08</td>\n",
              "      <td>29.510000</td>\n",
              "      <td>29.600000</td>\n",
              "      <td>28.860001</td>\n",
              "      <td>29.059999</td>\n",
              "      <td>29.059999</td>\n",
              "      <td>45871300</td>\n",
              "    </tr>\n",
              "  </tbody>\n",
              "</table>\n",
              "</div>"
            ],
            "text/plain": [
              "         Date       Open       High        Low      Close  Adj Close    Volume\n",
              "0  2013-01-02  27.440001  28.180000  27.420000  28.000000  28.000000  69846400\n",
              "1  2013-01-03  27.879999  28.469999  27.590000  27.770000  27.770000  63140600\n",
              "2  2013-01-04  28.010000  28.930000  27.830000  28.760000  28.760000  72715400\n",
              "3  2013-01-07  28.690001  29.790001  28.650000  29.420000  29.420000  83781800\n",
              "4  2013-01-08  29.510000  29.600000  28.860001  29.059999  29.059999  45871300"
            ]
          },
          "metadata": {
            "tags": []
          },
          "execution_count": 40
        }
      ]
    },
    {
      "cell_type": "code",
      "metadata": {
        "id": "_kCeKh9zvvYL",
        "colab_type": "code",
        "colab": {}
      },
      "source": [
        "base_treinamento= base.iloc[:,1:7].values"
      ],
      "execution_count": 0,
      "outputs": []
    },
    {
      "cell_type": "code",
      "metadata": {
        "id": "8qjPEheqv5Lc",
        "colab_type": "code",
        "colab": {}
      },
      "source": [
        "normalizador= MinMaxScaler(feature_range=(0,1))"
      ],
      "execution_count": 0,
      "outputs": []
    },
    {
      "cell_type": "code",
      "metadata": {
        "id": "Jsp2jG6nv73J",
        "colab_type": "code",
        "colab": {}
      },
      "source": [
        "base_treinamento_normalizada=normalizador.fit_transform(base_treinamento)"
      ],
      "execution_count": 0,
      "outputs": []
    },
    {
      "cell_type": "code",
      "metadata": {
        "id": "IJdtUyUDwQkf",
        "colab_type": "code",
        "colab": {}
      },
      "source": [
        "previsores=[]\n",
        "preco_real=[]"
      ],
      "execution_count": 0,
      "outputs": []
    },
    {
      "cell_type": "code",
      "metadata": {
        "id": "biAPeZ1WwUMM",
        "colab_type": "code",
        "colab": {
          "base_uri": "https://localhost:8080/",
          "height": 34
        },
        "outputId": "28720dee-3e9b-4200-b0a0-4f690a6b5885"
      },
      "source": [
        "base.shape"
      ],
      "execution_count": 45,
      "outputs": [
        {
          "output_type": "execute_result",
          "data": {
            "text/plain": [
              "(1761, 7)"
            ]
          },
          "metadata": {
            "tags": []
          },
          "execution_count": 45
        }
      ]
    },
    {
      "cell_type": "code",
      "metadata": {
        "id": "AqMyVQ4-wYyO",
        "colab_type": "code",
        "colab": {}
      },
      "source": [
        "for i in range(90,1761):\n",
        "  previsores.append(base_treinamento_normalizada[i-90:i,0:6])\n",
        "  preco_real.append(base_treinamento_normalizada[i,0])\n",
        "previsores, preco_real=np.array(previsores), np.array(preco_real)"
      ],
      "execution_count": 0,
      "outputs": []
    },
    {
      "cell_type": "code",
      "metadata": {
        "id": "IEy9gPbKxKas",
        "colab_type": "code",
        "colab": {}
      },
      "source": [
        "regressor=Sequential()"
      ],
      "execution_count": 0,
      "outputs": []
    },
    {
      "cell_type": "code",
      "metadata": {
        "id": "YAusrYFyxO94",
        "colab_type": "code",
        "colab": {}
      },
      "source": [
        "regressor.add(LSTM(units=100,return_sequences=True, input_shape=(previsores.shape[1],6)))\n",
        "regressor.add(Dropout(0.3))"
      ],
      "execution_count": 0,
      "outputs": []
    },
    {
      "cell_type": "code",
      "metadata": {
        "id": "XxbyX9D5xiug",
        "colab_type": "code",
        "colab": {}
      },
      "source": [
        "regressor.add(LSTM(units=50,return_sequences=True))\n",
        "regressor.add(Dropout(0.3))\n",
        "\n",
        "regressor.add(LSTM(units=50,return_sequences=True))\n",
        "regressor.add(Dropout(0.3))\n",
        "\n",
        "regressor.add(LSTM(units=50, return_sequences=True))\n",
        "regressor.add(Dropout(0.3))\n",
        "\n",
        "regressor.add(LSTM(units=50))\n",
        "regressor.add(Dropout(0.3))"
      ],
      "execution_count": 0,
      "outputs": []
    },
    {
      "cell_type": "code",
      "metadata": {
        "id": "YIE-GpIjyax_",
        "colab_type": "code",
        "colab": {}
      },
      "source": [
        "regressor.add(Dense(units=1, activation='sigmoid'))\n",
        "regressor.compile(optimizer='adam',loss='mean_squared_error', metrics=['mean_absolute_error'])\n"
      ],
      "execution_count": 0,
      "outputs": []
    },
    {
      "cell_type": "code",
      "metadata": {
        "id": "_xoqTboEyv13",
        "colab_type": "code",
        "colab": {}
      },
      "source": [
        "early= EarlyStopping(monitor='loss',min_delta=1e-10,patience=10,verbose=1)\n",
        "redu= ReduceLROnPlateau(monitor='loss',factor=0.2,patience=5,verbose=1)\n",
        "mcp= ModelCheckpoint(filepath='pesos.h5',monitor='loss')"
      ],
      "execution_count": 0,
      "outputs": []
    },
    {
      "cell_type": "code",
      "metadata": {
        "id": "65piU8mRzZ4H",
        "colab_type": "code",
        "colab": {
          "base_uri": "https://localhost:8080/",
          "height": 1000
        },
        "outputId": "9c93d8bb-44c6-4e82-d703-776ab6d952c2"
      },
      "source": [
        "regressor.fit(previsores,preco_real,epochs=1000, batch_size=32,callbacks=[early,redu,mcp])"
      ],
      "execution_count": 64,
      "outputs": [
        {
          "output_type": "stream",
          "text": [
            "Epoch 1/1000\n",
            "1671/1671 [==============================] - 16s 10ms/step - loss: 0.0169 - mean_absolute_error: 0.0928\n",
            "Epoch 2/1000\n",
            "1671/1671 [==============================] - 15s 9ms/step - loss: 0.0028 - mean_absolute_error: 0.0408\n",
            "Epoch 3/1000\n",
            "1671/1671 [==============================] - 16s 9ms/step - loss: 0.0025 - mean_absolute_error: 0.0385\n",
            "Epoch 4/1000\n",
            "1671/1671 [==============================] - 16s 10ms/step - loss: 0.0024 - mean_absolute_error: 0.0377\n",
            "Epoch 5/1000\n",
            "1671/1671 [==============================] - 16s 9ms/step - loss: 0.0024 - mean_absolute_error: 0.0380\n",
            "Epoch 6/1000\n",
            "1671/1671 [==============================] - 16s 10ms/step - loss: 0.0025 - mean_absolute_error: 0.0384\n",
            "Epoch 7/1000\n",
            "1671/1671 [==============================] - 16s 10ms/step - loss: 0.0019 - mean_absolute_error: 0.0337\n",
            "Epoch 8/1000\n",
            "1671/1671 [==============================] - 16s 9ms/step - loss: 0.0019 - mean_absolute_error: 0.0336\n",
            "Epoch 9/1000\n",
            "1671/1671 [==============================] - 16s 9ms/step - loss: 0.0019 - mean_absolute_error: 0.0336\n",
            "Epoch 10/1000\n",
            "1671/1671 [==============================] - 16s 9ms/step - loss: 0.0017 - mean_absolute_error: 0.0315\n",
            "Epoch 11/1000\n",
            "1671/1671 [==============================] - 16s 9ms/step - loss: 0.0019 - mean_absolute_error: 0.0335\n",
            "Epoch 12/1000\n",
            "1671/1671 [==============================] - 16s 10ms/step - loss: 0.0017 - mean_absolute_error: 0.0318\n",
            "Epoch 13/1000\n",
            "1671/1671 [==============================] - 16s 9ms/step - loss: 0.0016 - mean_absolute_error: 0.0308\n",
            "Epoch 14/1000\n",
            "1671/1671 [==============================] - 16s 9ms/step - loss: 0.0014 - mean_absolute_error: 0.0295\n",
            "Epoch 15/1000\n",
            "1671/1671 [==============================] - 16s 10ms/step - loss: 0.0015 - mean_absolute_error: 0.0294\n",
            "Epoch 16/1000\n",
            "1671/1671 [==============================] - 16s 9ms/step - loss: 0.0016 - mean_absolute_error: 0.0304\n",
            "Epoch 17/1000\n",
            "1671/1671 [==============================] - 16s 9ms/step - loss: 0.0016 - mean_absolute_error: 0.0298\n",
            "Epoch 18/1000\n",
            "1671/1671 [==============================] - 16s 9ms/step - loss: 0.0014 - mean_absolute_error: 0.0292\n",
            "Epoch 19/1000\n",
            "1671/1671 [==============================] - 16s 10ms/step - loss: 0.0015 - mean_absolute_error: 0.0295\n",
            "\n",
            "Epoch 00019: ReduceLROnPlateau reducing learning rate to 0.00020000000949949026.\n",
            "Epoch 20/1000\n",
            "1671/1671 [==============================] - 16s 9ms/step - loss: 0.0013 - mean_absolute_error: 0.0279\n",
            "Epoch 21/1000\n",
            "1671/1671 [==============================] - 16s 10ms/step - loss: 0.0013 - mean_absolute_error: 0.0269\n",
            "Epoch 22/1000\n",
            "1671/1671 [==============================] - 16s 10ms/step - loss: 0.0012 - mean_absolute_error: 0.0262\n",
            "Epoch 23/1000\n",
            "1671/1671 [==============================] - 16s 10ms/step - loss: 0.0013 - mean_absolute_error: 0.0269\n",
            "Epoch 24/1000\n",
            "1671/1671 [==============================] - 16s 9ms/step - loss: 0.0012 - mean_absolute_error: 0.0266\n",
            "Epoch 25/1000\n",
            "1671/1671 [==============================] - 16s 10ms/step - loss: 0.0013 - mean_absolute_error: 0.0268\n",
            "Epoch 26/1000\n",
            "1671/1671 [==============================] - 16s 10ms/step - loss: 0.0013 - mean_absolute_error: 0.0267\n",
            "\n",
            "Epoch 00026: ReduceLROnPlateau reducing learning rate to 4.0000001899898055e-05.\n",
            "Epoch 27/1000\n",
            "1671/1671 [==============================] - 16s 10ms/step - loss: 0.0012 - mean_absolute_error: 0.0258\n",
            "Epoch 28/1000\n",
            "1671/1671 [==============================] - 16s 10ms/step - loss: 0.0012 - mean_absolute_error: 0.0259\n",
            "Epoch 29/1000\n",
            "1671/1671 [==============================] - 16s 9ms/step - loss: 0.0012 - mean_absolute_error: 0.0263\n",
            "Epoch 30/1000\n",
            "1671/1671 [==============================] - 16s 10ms/step - loss: 0.0011 - mean_absolute_error: 0.0252\n",
            "Epoch 31/1000\n",
            "1671/1671 [==============================] - 16s 10ms/step - loss: 0.0012 - mean_absolute_error: 0.0260\n",
            "Epoch 32/1000\n",
            "1671/1671 [==============================] - 16s 10ms/step - loss: 0.0012 - mean_absolute_error: 0.0261\n",
            "Epoch 33/1000\n",
            "1671/1671 [==============================] - 16s 9ms/step - loss: 0.0011 - mean_absolute_error: 0.0254\n",
            "Epoch 34/1000\n",
            "1671/1671 [==============================] - 16s 10ms/step - loss: 0.0012 - mean_absolute_error: 0.0262\n",
            "Epoch 35/1000\n",
            "1671/1671 [==============================] - 16s 9ms/step - loss: 0.0012 - mean_absolute_error: 0.0261\n",
            "\n",
            "Epoch 00035: ReduceLROnPlateau reducing learning rate to 8.000000525498762e-06.\n",
            "Epoch 36/1000\n",
            "1671/1671 [==============================] - 16s 10ms/step - loss: 0.0012 - mean_absolute_error: 0.0259\n",
            "Epoch 37/1000\n",
            "1671/1671 [==============================] - 16s 10ms/step - loss: 0.0012 - mean_absolute_error: 0.0258\n",
            "Epoch 38/1000\n",
            "1671/1671 [==============================] - 16s 9ms/step - loss: 0.0011 - mean_absolute_error: 0.0249\n",
            "Epoch 39/1000\n",
            "1671/1671 [==============================] - 16s 9ms/step - loss: 0.0012 - mean_absolute_error: 0.0258\n",
            "Epoch 40/1000\n",
            "1671/1671 [==============================] - 16s 10ms/step - loss: 0.0011 - mean_absolute_error: 0.0252\n",
            "\n",
            "Epoch 00040: ReduceLROnPlateau reducing learning rate to 1.6000001778593287e-06.\n",
            "Epoch 00040: early stopping\n"
          ],
          "name": "stdout"
        },
        {
          "output_type": "execute_result",
          "data": {
            "text/plain": [
              "<keras.callbacks.callbacks.History at 0x7f4227e1cb38>"
            ]
          },
          "metadata": {
            "tags": []
          },
          "execution_count": 64
        }
      ]
    },
    {
      "cell_type": "code",
      "metadata": {
        "id": "MZxMy6oZzoVC",
        "colab_type": "code",
        "colab": {}
      },
      "source": [
        "base_teste=pd.read_csv('fb_stocks_test.csv')\n",
        "preco_real=base_teste.iloc[:,1:2].values\n",
        "frames=[base,base_teste]\n",
        "base_completa=pd.concat(frames)\n",
        "base_completa=base_completa.drop('Date',axis=1)"
      ],
      "execution_count": 0,
      "outputs": []
    },
    {
      "cell_type": "code",
      "metadata": {
        "id": "9iGXUEUH4G24",
        "colab_type": "code",
        "colab": {}
      },
      "source": [
        "preco_real_teste= base_teste.iloc[:,1:2].values"
      ],
      "execution_count": 0,
      "outputs": []
    },
    {
      "cell_type": "code",
      "metadata": {
        "id": "W5bDz2OX4Nta",
        "colab_type": "code",
        "colab": {}
      },
      "source": [
        "entradas= base_completa[len(base_completa)-len(base_teste)-90:].values"
      ],
      "execution_count": 0,
      "outputs": []
    },
    {
      "cell_type": "code",
      "metadata": {
        "id": "rn5Sx34V4dT2",
        "colab_type": "code",
        "colab": {}
      },
      "source": [
        "entradas= normalizador.transform(entradas)"
      ],
      "execution_count": 0,
      "outputs": []
    },
    {
      "cell_type": "code",
      "metadata": {
        "id": "avL2fcM64ilJ",
        "colab_type": "code",
        "colab": {}
      },
      "source": [
        "X_teste=[]\n",
        "for i in range(90,178):\n",
        "  X_teste.append(entradas[i-90:i,0:6])\n",
        "X_teste=np.array(X_teste)"
      ],
      "execution_count": 0,
      "outputs": []
    },
    {
      "cell_type": "code",
      "metadata": {
        "id": "PBubxMEd4vPS",
        "colab_type": "code",
        "colab": {
          "base_uri": "https://localhost:8080/",
          "height": 138
        },
        "outputId": "d8339956-4bd6-459d-ba7b-43bfb6f7d650"
      },
      "source": [
        "normalizador_previsao=MinMaxScaler(feature_range=(0,1))\n",
        "normalizador_previsao.fit_transform(base_treinamento[:,0:1])"
      ],
      "execution_count": 73,
      "outputs": [
        {
          "output_type": "execute_result",
          "data": {
            "text/plain": [
              "array([[0.0230893 ],\n",
              "       [0.02537228],\n",
              "       [0.0260468 ],\n",
              "       ...,\n",
              "       [0.94733568],\n",
              "       [0.96342031],\n",
              "       [0.95921756]])"
            ]
          },
          "metadata": {
            "tags": []
          },
          "execution_count": 73
        }
      ]
    },
    {
      "cell_type": "code",
      "metadata": {
        "id": "KroBKcpL5ZIT",
        "colab_type": "code",
        "colab": {}
      },
      "source": [
        "previsoes= regressor.predict(X_teste)\n",
        "previsoes = normalizador_previsao.inverse_transform(previsoes)"
      ],
      "execution_count": 0,
      "outputs": []
    },
    {
      "cell_type": "code",
      "metadata": {
        "id": "JRmg-IJ85d62",
        "colab_type": "code",
        "colab": {
          "base_uri": "https://localhost:8080/",
          "height": 34
        },
        "outputId": "bc434a0f-f572-477c-80a8-7cfbb02a4089"
      },
      "source": [
        "previsoes.mean()"
      ],
      "execution_count": 75,
      "outputs": [
        {
          "output_type": "execute_result",
          "data": {
            "text/plain": [
              "186.98021"
            ]
          },
          "metadata": {
            "tags": []
          },
          "execution_count": 75
        }
      ]
    },
    {
      "cell_type": "code",
      "metadata": {
        "id": "itxeJ4IR5ims",
        "colab_type": "code",
        "colab": {
          "base_uri": "https://localhost:8080/",
          "height": 34
        },
        "outputId": "8ab10879-0b63-43d8-d0c3-905da84effd3"
      },
      "source": [
        "preco_real.mean()"
      ],
      "execution_count": 76,
      "outputs": [
        {
          "output_type": "execute_result",
          "data": {
            "text/plain": [
              "192.9284090340909"
            ]
          },
          "metadata": {
            "tags": []
          },
          "execution_count": 76
        }
      ]
    },
    {
      "cell_type": "code",
      "metadata": {
        "id": "l51kJ9Bt5k1G",
        "colab_type": "code",
        "colab": {
          "base_uri": "https://localhost:8080/",
          "height": 294
        },
        "outputId": "da84e3c4-8833-4e4f-827f-bc5b5a87f705"
      },
      "source": [
        "plt.plot(preco_real_teste,color='red',label='Preço real')\n",
        "plt.plot(previsoes,color='blue',label='Previsões')\n",
        "plt.title('Previsão preço das ações')\n",
        "plt.xlabel('Tempo')\n",
        "plt.ylabel('Valor Yahoo')\n",
        "plt.legend()\n",
        "plt.show()"
      ],
      "execution_count": 77,
      "outputs": [
        {
          "output_type": "display_data",
          "data": {
            "image/png": "[encoded data removed]",
            "text/plain": [
              "<Figure size 432x288 with 1 Axes>"
            ]
          },
          "metadata": {
            "tags": [],
            "needs_background": "light"
          }
        }
      ]
    },
    {
      "cell_type": "code",
      "metadata": {
        "id": "NYXAOoRqAY-n",
        "colab_type": "code",
        "colab": {}
      },
      "source": [
        ""
      ],
      "execution_count": 0,
      "outputs": []
    }
  ]
}